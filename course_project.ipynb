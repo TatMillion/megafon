{
 "cells": [
  {
   "cell_type": "markdown",
   "metadata": {},
   "source": [
    "# Итоговый проект по курсу от Megafon\n",
    "\n",
    "### Задание\n",
    "У нас появился запрос из отдела продаж и маркетинга. Как вы знаете «МегаФон» предлагает обширный набор различных услуг своим абонентам. При этом разным пользователям интересны разные услуги. Поэтому необходимо построить алгоритм, который для каждой пары пользователь-услуга определит вероятность подключения услуги.\n",
    "### Данные\n",
    "В качестве исходных данных вам будет доступна информация об отклике\n",
    "абонентов на предложение подключения одной из услуг. Каждому пользователю может быть сделано несколько предложений в разное время, каждое из которых он может или принять, или отклонить.\n",
    "Отдельным набором данных будет являться нормализованный\n",
    "анонимизированный набор признаков, характеризующий профиль потребления абонента. Эти данные привязаны к определенному времени, поскольку профиль абонента может меняться с течением времени."
   ]
  },
  {
   "cell_type": "code",
   "execution_count": 2,
   "metadata": {},
   "outputs": [],
   "source": [
    "import pandas as pd\n",
    "import dask.dataframe as dd\n",
    "import matplotlib.pyplot as plt\n",
    "from sklearn.model_selection import train_test_split, GridSearchCV\n",
    "import datetime as dtm\n",
    "import numpy as np\n",
    "from sklearn.preprocessing import StandardScaler\n",
    "from sklearn.pipeline import Pipeline\n",
    "from sklearn.ensemble import RandomForestClassifier, GradientBoostingClassifier\n",
    "from sklearn.metrics import f1_score, make_scorer\n",
    "from sklearn.decomposition import PCA\n",
    "from sklearn.linear_model import LogisticRegression\n",
    "from sklearn.neighbors import KNeighborsClassifier\n",
    "import warnings\n",
    "warnings.filterwarnings(\"ignore\")\n",
    "import pickle"
   ]
  },
  {
   "cell_type": "code",
   "execution_count": 3,
   "metadata": {},
   "outputs": [],
   "source": [
    "data_train = pd.read_csv('data_train.csv')\n",
    "data_test = pd.read_csv('data_test.csv')"
   ]
  },
  {
   "cell_type": "code",
   "execution_count": 4,
   "metadata": {},
   "outputs": [
    {
     "name": "stdout",
     "output_type": "stream",
     "text": [
      "Wall time: 437 ms\n"
     ]
    }
   ],
   "source": [
    "%%time\n",
    "df_features = dd.read_csv('features.csv', sep='\\t')"
   ]
  },
  {
   "cell_type": "markdown",
   "metadata": {},
   "source": [
    "#### Визуальный просмотр данных и их размерностей"
   ]
  },
  {
   "cell_type": "code",
   "execution_count": 5,
   "metadata": {},
   "outputs": [
    {
     "data": {
      "text/html": [
       "<div>\n",
       "<style scoped>\n",
       "    .dataframe tbody tr th:only-of-type {\n",
       "        vertical-align: middle;\n",
       "    }\n",
       "\n",
       "    .dataframe tbody tr th {\n",
       "        vertical-align: top;\n",
       "    }\n",
       "\n",
       "    .dataframe thead th {\n",
       "        text-align: right;\n",
       "    }\n",
       "</style>\n",
       "<table border=\"1\" class=\"dataframe\">\n",
       "  <thead>\n",
       "    <tr style=\"text-align: right;\">\n",
       "      <th></th>\n",
       "      <th>Unnamed: 0</th>\n",
       "      <th>id</th>\n",
       "      <th>buy_time</th>\n",
       "      <th>0</th>\n",
       "      <th>1</th>\n",
       "      <th>2</th>\n",
       "      <th>3</th>\n",
       "      <th>4</th>\n",
       "      <th>5</th>\n",
       "      <th>6</th>\n",
       "      <th>...</th>\n",
       "      <th>243</th>\n",
       "      <th>244</th>\n",
       "      <th>245</th>\n",
       "      <th>246</th>\n",
       "      <th>247</th>\n",
       "      <th>248</th>\n",
       "      <th>249</th>\n",
       "      <th>250</th>\n",
       "      <th>251</th>\n",
       "      <th>252</th>\n",
       "    </tr>\n",
       "  </thead>\n",
       "  <tbody>\n",
       "    <tr>\n",
       "      <th>0</th>\n",
       "      <td>0</td>\n",
       "      <td>2013026</td>\n",
       "      <td>1531688400</td>\n",
       "      <td>18.910029</td>\n",
       "      <td>46.980888</td>\n",
       "      <td>4.969214</td>\n",
       "      <td>-1.386798</td>\n",
       "      <td>3.791754</td>\n",
       "      <td>-14.01179</td>\n",
       "      <td>-16.08618</td>\n",
       "      <td>...</td>\n",
       "      <td>-977.373846</td>\n",
       "      <td>-613.770792</td>\n",
       "      <td>-25.996269</td>\n",
       "      <td>-37.630448</td>\n",
       "      <td>-301.747724</td>\n",
       "      <td>-25.832889</td>\n",
       "      <td>-0.694428</td>\n",
       "      <td>-12.175933</td>\n",
       "      <td>-0.45614</td>\n",
       "      <td>0.0</td>\n",
       "    </tr>\n",
       "    <tr>\n",
       "      <th>1</th>\n",
       "      <td>1</td>\n",
       "      <td>2014722</td>\n",
       "      <td>1539550800</td>\n",
       "      <td>36.690029</td>\n",
       "      <td>152.400888</td>\n",
       "      <td>448.069214</td>\n",
       "      <td>563.833202</td>\n",
       "      <td>463.841754</td>\n",
       "      <td>568.99821</td>\n",
       "      <td>-16.08618</td>\n",
       "      <td>...</td>\n",
       "      <td>-891.373846</td>\n",
       "      <td>-544.770792</td>\n",
       "      <td>-20.996269</td>\n",
       "      <td>48.369552</td>\n",
       "      <td>80.252276</td>\n",
       "      <td>-13.832889</td>\n",
       "      <td>-0.694428</td>\n",
       "      <td>-1.175933</td>\n",
       "      <td>-0.45614</td>\n",
       "      <td>0.0</td>\n",
       "    </tr>\n",
       "    <tr>\n",
       "      <th>2</th>\n",
       "      <td>2</td>\n",
       "      <td>2015199</td>\n",
       "      <td>1545598800</td>\n",
       "      <td>-67.019971</td>\n",
       "      <td>157.050888</td>\n",
       "      <td>-63.180786</td>\n",
       "      <td>178.103202</td>\n",
       "      <td>-68.598246</td>\n",
       "      <td>156.99821</td>\n",
       "      <td>3.51382</td>\n",
       "      <td>...</td>\n",
       "      <td>-977.373846</td>\n",
       "      <td>-613.770792</td>\n",
       "      <td>-12.996269</td>\n",
       "      <td>-37.630448</td>\n",
       "      <td>10829.252276</td>\n",
       "      <td>-25.832889</td>\n",
       "      <td>-0.694428</td>\n",
       "      <td>-12.175933</td>\n",
       "      <td>-0.45614</td>\n",
       "      <td>0.0</td>\n",
       "    </tr>\n",
       "    <tr>\n",
       "      <th>3</th>\n",
       "      <td>3</td>\n",
       "      <td>2021765</td>\n",
       "      <td>1534107600</td>\n",
       "      <td>7.010029</td>\n",
       "      <td>150.200888</td>\n",
       "      <td>-6.930786</td>\n",
       "      <td>216.213202</td>\n",
       "      <td>76.621754</td>\n",
       "      <td>351.84821</td>\n",
       "      <td>-16.08618</td>\n",
       "      <td>...</td>\n",
       "      <td>-973.373846</td>\n",
       "      <td>-613.770792</td>\n",
       "      <td>-23.996269</td>\n",
       "      <td>-37.630448</td>\n",
       "      <td>-205.747724</td>\n",
       "      <td>-24.832889</td>\n",
       "      <td>-0.694428</td>\n",
       "      <td>-11.175933</td>\n",
       "      <td>-0.45614</td>\n",
       "      <td>1.0</td>\n",
       "    </tr>\n",
       "    <tr>\n",
       "      <th>4</th>\n",
       "      <td>4</td>\n",
       "      <td>2027465</td>\n",
       "      <td>1533502800</td>\n",
       "      <td>-90.439971</td>\n",
       "      <td>134.220888</td>\n",
       "      <td>-104.380786</td>\n",
       "      <td>153.643202</td>\n",
       "      <td>-109.798246</td>\n",
       "      <td>132.53821</td>\n",
       "      <td>-16.08618</td>\n",
       "      <td>...</td>\n",
       "      <td>1643.626154</td>\n",
       "      <td>2007.229208</td>\n",
       "      <td>206.003731</td>\n",
       "      <td>-21.630448</td>\n",
       "      <td>6667.252276</td>\n",
       "      <td>92.167111</td>\n",
       "      <td>-0.694428</td>\n",
       "      <td>49.824067</td>\n",
       "      <td>47.54386</td>\n",
       "      <td>0.0</td>\n",
       "    </tr>\n",
       "  </tbody>\n",
       "</table>\n",
       "<p>5 rows × 256 columns</p>\n",
       "</div>"
      ],
      "text/plain": [
       "   Unnamed: 0       id    buy_time          0           1           2  \\\n",
       "0           0  2013026  1531688400  18.910029   46.980888    4.969214   \n",
       "1           1  2014722  1539550800  36.690029  152.400888  448.069214   \n",
       "2           2  2015199  1545598800 -67.019971  157.050888  -63.180786   \n",
       "3           3  2021765  1534107600   7.010029  150.200888   -6.930786   \n",
       "4           4  2027465  1533502800 -90.439971  134.220888 -104.380786   \n",
       "\n",
       "            3           4          5         6  ...          243          244  \\\n",
       "0   -1.386798    3.791754  -14.01179 -16.08618  ...  -977.373846  -613.770792   \n",
       "1  563.833202  463.841754  568.99821 -16.08618  ...  -891.373846  -544.770792   \n",
       "2  178.103202  -68.598246  156.99821   3.51382  ...  -977.373846  -613.770792   \n",
       "3  216.213202   76.621754  351.84821 -16.08618  ...  -973.373846  -613.770792   \n",
       "4  153.643202 -109.798246  132.53821 -16.08618  ...  1643.626154  2007.229208   \n",
       "\n",
       "          245        246           247        248       249        250  \\\n",
       "0  -25.996269 -37.630448   -301.747724 -25.832889 -0.694428 -12.175933   \n",
       "1  -20.996269  48.369552     80.252276 -13.832889 -0.694428  -1.175933   \n",
       "2  -12.996269 -37.630448  10829.252276 -25.832889 -0.694428 -12.175933   \n",
       "3  -23.996269 -37.630448   -205.747724 -24.832889 -0.694428 -11.175933   \n",
       "4  206.003731 -21.630448   6667.252276  92.167111 -0.694428  49.824067   \n",
       "\n",
       "        251  252  \n",
       "0  -0.45614  0.0  \n",
       "1  -0.45614  0.0  \n",
       "2  -0.45614  0.0  \n",
       "3  -0.45614  1.0  \n",
       "4  47.54386  0.0  \n",
       "\n",
       "[5 rows x 256 columns]"
      ]
     },
     "execution_count": 5,
     "metadata": {},
     "output_type": "execute_result"
    }
   ],
   "source": [
    "df_features.head()"
   ]
  },
  {
   "cell_type": "code",
   "execution_count": 6,
   "metadata": {},
   "outputs": [
    {
     "data": {
      "text/html": [
       "<div>\n",
       "<style scoped>\n",
       "    .dataframe tbody tr th:only-of-type {\n",
       "        vertical-align: middle;\n",
       "    }\n",
       "\n",
       "    .dataframe tbody tr th {\n",
       "        vertical-align: top;\n",
       "    }\n",
       "\n",
       "    .dataframe thead th {\n",
       "        text-align: right;\n",
       "    }\n",
       "</style>\n",
       "<table border=\"1\" class=\"dataframe\">\n",
       "  <thead>\n",
       "    <tr style=\"text-align: right;\">\n",
       "      <th></th>\n",
       "      <th>Unnamed: 0</th>\n",
       "      <th>id</th>\n",
       "      <th>vas_id</th>\n",
       "      <th>buy_time</th>\n",
       "      <th>target</th>\n",
       "    </tr>\n",
       "  </thead>\n",
       "  <tbody>\n",
       "    <tr>\n",
       "      <th>0</th>\n",
       "      <td>0</td>\n",
       "      <td>540968</td>\n",
       "      <td>8.0</td>\n",
       "      <td>1537131600</td>\n",
       "      <td>0.0</td>\n",
       "    </tr>\n",
       "    <tr>\n",
       "      <th>1</th>\n",
       "      <td>1</td>\n",
       "      <td>1454121</td>\n",
       "      <td>4.0</td>\n",
       "      <td>1531688400</td>\n",
       "      <td>0.0</td>\n",
       "    </tr>\n",
       "    <tr>\n",
       "      <th>2</th>\n",
       "      <td>2</td>\n",
       "      <td>2458816</td>\n",
       "      <td>1.0</td>\n",
       "      <td>1534107600</td>\n",
       "      <td>0.0</td>\n",
       "    </tr>\n",
       "    <tr>\n",
       "      <th>3</th>\n",
       "      <td>3</td>\n",
       "      <td>3535012</td>\n",
       "      <td>5.0</td>\n",
       "      <td>1535922000</td>\n",
       "      <td>0.0</td>\n",
       "    </tr>\n",
       "    <tr>\n",
       "      <th>4</th>\n",
       "      <td>4</td>\n",
       "      <td>1693214</td>\n",
       "      <td>1.0</td>\n",
       "      <td>1535922000</td>\n",
       "      <td>0.0</td>\n",
       "    </tr>\n",
       "  </tbody>\n",
       "</table>\n",
       "</div>"
      ],
      "text/plain": [
       "   Unnamed: 0       id  vas_id    buy_time  target\n",
       "0           0   540968     8.0  1537131600     0.0\n",
       "1           1  1454121     4.0  1531688400     0.0\n",
       "2           2  2458816     1.0  1534107600     0.0\n",
       "3           3  3535012     5.0  1535922000     0.0\n",
       "4           4  1693214     1.0  1535922000     0.0"
      ]
     },
     "execution_count": 6,
     "metadata": {},
     "output_type": "execute_result"
    }
   ],
   "source": [
    "data_train.head()"
   ]
  },
  {
   "cell_type": "code",
   "execution_count": 7,
   "metadata": {},
   "outputs": [
    {
     "data": {
      "text/plain": [
       "array([1537131600, 1531688400, 1534107600, 1535922000, 1532898000,\n",
       "       1544994000, 1545598800, 1534712400, 1541970000, 1538341200,\n",
       "       1533502800, 1541365200, 1539550800, 1536526800, 1546203600,\n",
       "       1532293200, 1544389200, 1542574800, 1537736400, 1535317200,\n",
       "       1540760400, 1531083600, 1538946000, 1540155600, 1543784400,\n",
       "       1543179600], dtype=int64)"
      ]
     },
     "execution_count": 7,
     "metadata": {},
     "output_type": "execute_result"
    }
   ],
   "source": [
    "data_train['buy_time'].unique()"
   ]
  },
  {
   "cell_type": "code",
   "execution_count": 8,
   "metadata": {},
   "outputs": [
    {
     "data": {
      "text/plain": [
       "0      1531688400\n",
       "1      1539550800\n",
       "2      1545598800\n",
       "3      1534107600\n",
       "4      1533502800\n",
       "6      1544994000\n",
       "7      1537736400\n",
       "9      1544389200\n",
       "10     1536526800\n",
       "11     1535317200\n",
       "13     1534712400\n",
       "14     1542574800\n",
       "16     1540760400\n",
       "18     1540155600\n",
       "23     1541365200\n",
       "26     1537131600\n",
       "28     1531083600\n",
       "33     1538341200\n",
       "34     1532293200\n",
       "40     1546203600\n",
       "46     1535922000\n",
       "51     1538946000\n",
       "55     1547413200\n",
       "57     1543784400\n",
       "64     1548018000\n",
       "67     1541970000\n",
       "69     1532898000\n",
       "148    1546808400\n",
       "165    1543179600\n",
       "Name: buy_time, dtype: int64"
      ]
     },
     "execution_count": 8,
     "metadata": {},
     "output_type": "execute_result"
    }
   ],
   "source": [
    "df_features['buy_time'].drop_duplicates().compute()"
   ]
  },
  {
   "cell_type": "code",
   "execution_count": 9,
   "metadata": {},
   "outputs": [
    {
     "data": {
      "text/plain": [
       "(831653, 5)"
      ]
     },
     "execution_count": 9,
     "metadata": {},
     "output_type": "execute_result"
    }
   ],
   "source": [
    "data_train.shape"
   ]
  },
  {
   "cell_type": "code",
   "execution_count": 11,
   "metadata": {},
   "outputs": [
    {
     "name": "stdout",
     "output_type": "stream",
     "text": [
      "Wall time: 8min 45s\n"
     ]
    },
    {
     "data": {
      "text/plain": [
       "4512528"
      ]
     },
     "execution_count": 11,
     "metadata": {},
     "output_type": "execute_result"
    }
   ],
   "source": [
    "%%time\n",
    "df_features.shape[0].compute()"
   ]
  },
  {
   "cell_type": "markdown",
   "metadata": {},
   "source": [
    "#### Слияние данных"
   ]
  },
  {
   "cell_type": "code",
   "execution_count": 25,
   "metadata": {
    "scrolled": true
   },
   "outputs": [],
   "source": [
    "id_in_train = list(data_train.id)\n",
    "id_in_test = list(data_test.id)"
   ]
  },
  {
   "cell_type": "code",
   "execution_count": 26,
   "metadata": {},
   "outputs": [
    {
     "name": "stdout",
     "output_type": "stream",
     "text": [
      "Wall time: 13.3 s\n"
     ]
    }
   ],
   "source": [
    "%%time\n",
    "df_features_for_train = df_features[df_features.id.isin(id_in_train)]"
   ]
  },
  {
   "cell_type": "code",
   "execution_count": 27,
   "metadata": {},
   "outputs": [
    {
     "name": "stdout",
     "output_type": "stream",
     "text": [
      "Wall time: 9min 24s\n"
     ]
    }
   ],
   "source": [
    "%%time\n",
    "df_features_for_train_in_pd = df_features_for_train.compute()"
   ]
  },
  {
   "cell_type": "code",
   "execution_count": 28,
   "metadata": {},
   "outputs": [
    {
     "name": "stdout",
     "output_type": "stream",
     "text": [
      "Wall time: 2.23 s\n"
     ]
    }
   ],
   "source": [
    "%%time\n",
    "df_features_for_test = df_features[df_features.id.isin(id_in_test)]"
   ]
  },
  {
   "cell_type": "code",
   "execution_count": 29,
   "metadata": {},
   "outputs": [
    {
     "name": "stdout",
     "output_type": "stream",
     "text": [
      "Wall time: 9min 15s\n"
     ]
    }
   ],
   "source": [
    "%%time\n",
    "df_features_for_test_in_pd = df_features_for_test.compute()"
   ]
  },
  {
   "cell_type": "code",
   "execution_count": 30,
   "metadata": {},
   "outputs": [
    {
     "data": {
      "text/html": [
       "<div>\n",
       "<style scoped>\n",
       "    .dataframe tbody tr th:only-of-type {\n",
       "        vertical-align: middle;\n",
       "    }\n",
       "\n",
       "    .dataframe tbody tr th {\n",
       "        vertical-align: top;\n",
       "    }\n",
       "\n",
       "    .dataframe thead th {\n",
       "        text-align: right;\n",
       "    }\n",
       "</style>\n",
       "<table border=\"1\" class=\"dataframe\">\n",
       "  <thead>\n",
       "    <tr style=\"text-align: right;\">\n",
       "      <th></th>\n",
       "      <th>Unnamed: 0</th>\n",
       "      <th>id</th>\n",
       "      <th>vas_id</th>\n",
       "      <th>buy_time</th>\n",
       "      <th>target</th>\n",
       "    </tr>\n",
       "  </thead>\n",
       "  <tbody>\n",
       "    <tr>\n",
       "      <th>0</th>\n",
       "      <td>0</td>\n",
       "      <td>540968</td>\n",
       "      <td>8.0</td>\n",
       "      <td>1537131600</td>\n",
       "      <td>0.0</td>\n",
       "    </tr>\n",
       "    <tr>\n",
       "      <th>1</th>\n",
       "      <td>1</td>\n",
       "      <td>1454121</td>\n",
       "      <td>4.0</td>\n",
       "      <td>1531688400</td>\n",
       "      <td>0.0</td>\n",
       "    </tr>\n",
       "    <tr>\n",
       "      <th>2</th>\n",
       "      <td>2</td>\n",
       "      <td>2458816</td>\n",
       "      <td>1.0</td>\n",
       "      <td>1534107600</td>\n",
       "      <td>0.0</td>\n",
       "    </tr>\n",
       "    <tr>\n",
       "      <th>3</th>\n",
       "      <td>3</td>\n",
       "      <td>3535012</td>\n",
       "      <td>5.0</td>\n",
       "      <td>1535922000</td>\n",
       "      <td>0.0</td>\n",
       "    </tr>\n",
       "    <tr>\n",
       "      <th>4</th>\n",
       "      <td>4</td>\n",
       "      <td>1693214</td>\n",
       "      <td>1.0</td>\n",
       "      <td>1535922000</td>\n",
       "      <td>0.0</td>\n",
       "    </tr>\n",
       "  </tbody>\n",
       "</table>\n",
       "</div>"
      ],
      "text/plain": [
       "   Unnamed: 0       id  vas_id    buy_time  target\n",
       "0           0   540968     8.0  1537131600     0.0\n",
       "1           1  1454121     4.0  1531688400     0.0\n",
       "2           2  2458816     1.0  1534107600     0.0\n",
       "3           3  3535012     5.0  1535922000     0.0\n",
       "4           4  1693214     1.0  1535922000     0.0"
      ]
     },
     "execution_count": 30,
     "metadata": {},
     "output_type": "execute_result"
    }
   ],
   "source": [
    "data_train.head()"
   ]
  },
  {
   "cell_type": "code",
   "execution_count": 31,
   "metadata": {},
   "outputs": [
    {
     "data": {
      "text/plain": [
       "(72552, 256)"
      ]
     },
     "execution_count": 31,
     "metadata": {},
     "output_type": "execute_result"
    }
   ],
   "source": [
    "df_features_for_test_in_pd.shape"
   ]
  },
  {
   "cell_type": "code",
   "execution_count": 32,
   "metadata": {},
   "outputs": [],
   "source": [
    "sort_data_train = data_train.sort_values(by='id')\n",
    "sort_df_features_for_train_in_pd = df_features_for_train_in_pd.sort_values(by='id')"
   ]
  },
  {
   "cell_type": "code",
   "execution_count": 33,
   "metadata": {},
   "outputs": [],
   "source": [
    "sort_data_test = data_test.sort_values(by='id')\n",
    "sort_df_features_for_test_in_pd = df_features_for_test_in_pd.sort_values(by='id')"
   ]
  },
  {
   "cell_type": "code",
   "execution_count": 34,
   "metadata": {},
   "outputs": [
    {
     "name": "stdout",
     "output_type": "stream",
     "text": [
      "Wall time: 53.9 s\n",
      "Parser   : 141 ms\n"
     ]
    }
   ],
   "source": [
    "%%time\n",
    "full_train = pd.merge_asof(sort_data_train, sort_df_features_for_train_in_pd, on='id', by='buy_time', direction='nearest')"
   ]
  },
  {
   "cell_type": "code",
   "execution_count": 35,
   "metadata": {},
   "outputs": [
    {
     "name": "stdout",
     "output_type": "stream",
     "text": [
      "Wall time: 2.56 s\n"
     ]
    }
   ],
   "source": [
    "%%time\n",
    "full_test = pd.merge_asof(sort_data_test, sort_df_features_for_test_in_pd, on='id', by='buy_time', direction='nearest')"
   ]
  },
  {
   "cell_type": "code",
   "execution_count": 36,
   "metadata": {},
   "outputs": [
    {
     "data": {
      "text/html": [
       "<div>\n",
       "<style scoped>\n",
       "    .dataframe tbody tr th:only-of-type {\n",
       "        vertical-align: middle;\n",
       "    }\n",
       "\n",
       "    .dataframe tbody tr th {\n",
       "        vertical-align: top;\n",
       "    }\n",
       "\n",
       "    .dataframe thead th {\n",
       "        text-align: right;\n",
       "    }\n",
       "</style>\n",
       "<table border=\"1\" class=\"dataframe\">\n",
       "  <thead>\n",
       "    <tr style=\"text-align: right;\">\n",
       "      <th></th>\n",
       "      <th>Unnamed: 0_x</th>\n",
       "      <th>id</th>\n",
       "      <th>vas_id</th>\n",
       "      <th>buy_time</th>\n",
       "      <th>Unnamed: 0_y</th>\n",
       "      <th>0</th>\n",
       "      <th>1</th>\n",
       "      <th>2</th>\n",
       "      <th>3</th>\n",
       "      <th>4</th>\n",
       "      <th>...</th>\n",
       "      <th>243</th>\n",
       "      <th>244</th>\n",
       "      <th>245</th>\n",
       "      <th>246</th>\n",
       "      <th>247</th>\n",
       "      <th>248</th>\n",
       "      <th>249</th>\n",
       "      <th>250</th>\n",
       "      <th>251</th>\n",
       "      <th>252</th>\n",
       "    </tr>\n",
       "  </thead>\n",
       "  <tbody>\n",
       "    <tr>\n",
       "      <th>0</th>\n",
       "      <td>87</td>\n",
       "      <td>55</td>\n",
       "      <td>2.0</td>\n",
       "      <td>1547413200</td>\n",
       "      <td>2266581</td>\n",
       "      <td>-23.859971</td>\n",
       "      <td>-105.359112</td>\n",
       "      <td>-37.800786</td>\n",
       "      <td>-153.726798</td>\n",
       "      <td>-43.218246</td>\n",
       "      <td>...</td>\n",
       "      <td>-977.373846</td>\n",
       "      <td>-613.770792</td>\n",
       "      <td>-24.996269</td>\n",
       "      <td>48.369552</td>\n",
       "      <td>-244.747724</td>\n",
       "      <td>-24.832889</td>\n",
       "      <td>-0.694428</td>\n",
       "      <td>-12.175933</td>\n",
       "      <td>-0.45614</td>\n",
       "      <td>0.0</td>\n",
       "    </tr>\n",
       "    <tr>\n",
       "      <th>1</th>\n",
       "      <td>98</td>\n",
       "      <td>64</td>\n",
       "      <td>4.0</td>\n",
       "      <td>1548018000</td>\n",
       "      <td>3102545</td>\n",
       "      <td>-93.799971</td>\n",
       "      <td>-337.249112</td>\n",
       "      <td>-107.740786</td>\n",
       "      <td>-360.686798</td>\n",
       "      <td>-113.158246</td>\n",
       "      <td>...</td>\n",
       "      <td>934.626154</td>\n",
       "      <td>-611.770792</td>\n",
       "      <td>-25.996269</td>\n",
       "      <td>3571.369552</td>\n",
       "      <td>-120.747724</td>\n",
       "      <td>25.167111</td>\n",
       "      <td>-0.694428</td>\n",
       "      <td>-12.175933</td>\n",
       "      <td>-0.45614</td>\n",
       "      <td>1.0</td>\n",
       "    </tr>\n",
       "    <tr>\n",
       "      <th>2</th>\n",
       "      <td>278</td>\n",
       "      <td>151</td>\n",
       "      <td>2.0</td>\n",
       "      <td>1547413200</td>\n",
       "      <td>2266581</td>\n",
       "      <td>-23.859971</td>\n",
       "      <td>-105.359112</td>\n",
       "      <td>-37.800786</td>\n",
       "      <td>-153.726798</td>\n",
       "      <td>-43.218246</td>\n",
       "      <td>...</td>\n",
       "      <td>-977.373846</td>\n",
       "      <td>-613.770792</td>\n",
       "      <td>-24.996269</td>\n",
       "      <td>48.369552</td>\n",
       "      <td>-244.747724</td>\n",
       "      <td>-24.832889</td>\n",
       "      <td>-0.694428</td>\n",
       "      <td>-12.175933</td>\n",
       "      <td>-0.45614</td>\n",
       "      <td>0.0</td>\n",
       "    </tr>\n",
       "    <tr>\n",
       "      <th>3</th>\n",
       "      <td>552</td>\n",
       "      <td>274</td>\n",
       "      <td>4.0</td>\n",
       "      <td>1548018000</td>\n",
       "      <td>3102545</td>\n",
       "      <td>-93.799971</td>\n",
       "      <td>-337.249112</td>\n",
       "      <td>-107.740786</td>\n",
       "      <td>-360.686798</td>\n",
       "      <td>-113.158246</td>\n",
       "      <td>...</td>\n",
       "      <td>934.626154</td>\n",
       "      <td>-611.770792</td>\n",
       "      <td>-25.996269</td>\n",
       "      <td>3571.369552</td>\n",
       "      <td>-120.747724</td>\n",
       "      <td>25.167111</td>\n",
       "      <td>-0.694428</td>\n",
       "      <td>-12.175933</td>\n",
       "      <td>-0.45614</td>\n",
       "      <td>1.0</td>\n",
       "    </tr>\n",
       "    <tr>\n",
       "      <th>4</th>\n",
       "      <td>551</td>\n",
       "      <td>274</td>\n",
       "      <td>2.0</td>\n",
       "      <td>1547413200</td>\n",
       "      <td>2266581</td>\n",
       "      <td>-23.859971</td>\n",
       "      <td>-105.359112</td>\n",
       "      <td>-37.800786</td>\n",
       "      <td>-153.726798</td>\n",
       "      <td>-43.218246</td>\n",
       "      <td>...</td>\n",
       "      <td>-977.373846</td>\n",
       "      <td>-613.770792</td>\n",
       "      <td>-24.996269</td>\n",
       "      <td>48.369552</td>\n",
       "      <td>-244.747724</td>\n",
       "      <td>-24.832889</td>\n",
       "      <td>-0.694428</td>\n",
       "      <td>-12.175933</td>\n",
       "      <td>-0.45614</td>\n",
       "      <td>0.0</td>\n",
       "    </tr>\n",
       "  </tbody>\n",
       "</table>\n",
       "<p>5 rows × 258 columns</p>\n",
       "</div>"
      ],
      "text/plain": [
       "   Unnamed: 0_x   id  vas_id    buy_time  Unnamed: 0_y          0           1  \\\n",
       "0            87   55     2.0  1547413200       2266581 -23.859971 -105.359112   \n",
       "1            98   64     4.0  1548018000       3102545 -93.799971 -337.249112   \n",
       "2           278  151     2.0  1547413200       2266581 -23.859971 -105.359112   \n",
       "3           552  274     4.0  1548018000       3102545 -93.799971 -337.249112   \n",
       "4           551  274     2.0  1547413200       2266581 -23.859971 -105.359112   \n",
       "\n",
       "            2           3           4  ...         243         244        245  \\\n",
       "0  -37.800786 -153.726798  -43.218246  ... -977.373846 -613.770792 -24.996269   \n",
       "1 -107.740786 -360.686798 -113.158246  ...  934.626154 -611.770792 -25.996269   \n",
       "2  -37.800786 -153.726798  -43.218246  ... -977.373846 -613.770792 -24.996269   \n",
       "3 -107.740786 -360.686798 -113.158246  ...  934.626154 -611.770792 -25.996269   \n",
       "4  -37.800786 -153.726798  -43.218246  ... -977.373846 -613.770792 -24.996269   \n",
       "\n",
       "           246         247        248       249        250      251  252  \n",
       "0    48.369552 -244.747724 -24.832889 -0.694428 -12.175933 -0.45614  0.0  \n",
       "1  3571.369552 -120.747724  25.167111 -0.694428 -12.175933 -0.45614  1.0  \n",
       "2    48.369552 -244.747724 -24.832889 -0.694428 -12.175933 -0.45614  0.0  \n",
       "3  3571.369552 -120.747724  25.167111 -0.694428 -12.175933 -0.45614  1.0  \n",
       "4    48.369552 -244.747724 -24.832889 -0.694428 -12.175933 -0.45614  0.0  \n",
       "\n",
       "[5 rows x 258 columns]"
      ]
     },
     "execution_count": 36,
     "metadata": {},
     "output_type": "execute_result"
    }
   ],
   "source": [
    "full_test.head()"
   ]
  },
  {
   "cell_type": "code",
   "execution_count": 37,
   "metadata": {},
   "outputs": [],
   "source": [
    "del df_features\n",
    "del data_train\n",
    "del df_features_for_train\n",
    "del df_features_for_test\n",
    "del df_features_for_train_in_pd\n",
    "del df_features_for_test_in_pd\n",
    "del sort_data_train\n",
    "del sort_df_features_for_train_in_pd\n",
    "del sort_data_test\n",
    "del sort_df_features_for_test_in_pd"
   ]
  },
  {
   "cell_type": "code",
   "execution_count": 38,
   "metadata": {},
   "outputs": [
    {
     "data": {
      "text/html": [
       "<div>\n",
       "<style scoped>\n",
       "    .dataframe tbody tr th:only-of-type {\n",
       "        vertical-align: middle;\n",
       "    }\n",
       "\n",
       "    .dataframe tbody tr th {\n",
       "        vertical-align: top;\n",
       "    }\n",
       "\n",
       "    .dataframe thead th {\n",
       "        text-align: right;\n",
       "    }\n",
       "</style>\n",
       "<table border=\"1\" class=\"dataframe\">\n",
       "  <thead>\n",
       "    <tr style=\"text-align: right;\">\n",
       "      <th></th>\n",
       "      <th>Unnamed: 0_x</th>\n",
       "      <th>id</th>\n",
       "      <th>vas_id</th>\n",
       "      <th>buy_time</th>\n",
       "      <th>target</th>\n",
       "      <th>Unnamed: 0_y</th>\n",
       "      <th>0</th>\n",
       "      <th>1</th>\n",
       "      <th>2</th>\n",
       "      <th>3</th>\n",
       "      <th>...</th>\n",
       "      <th>243</th>\n",
       "      <th>244</th>\n",
       "      <th>245</th>\n",
       "      <th>246</th>\n",
       "      <th>247</th>\n",
       "      <th>248</th>\n",
       "      <th>249</th>\n",
       "      <th>250</th>\n",
       "      <th>251</th>\n",
       "      <th>252</th>\n",
       "    </tr>\n",
       "  </thead>\n",
       "  <tbody>\n",
       "    <tr>\n",
       "      <th>count</th>\n",
       "      <td>831653.000000</td>\n",
       "      <td>8.316530e+05</td>\n",
       "      <td>831653.000000</td>\n",
       "      <td>8.316530e+05</td>\n",
       "      <td>831653.000000</td>\n",
       "      <td>8.316530e+05</td>\n",
       "      <td>831653.000000</td>\n",
       "      <td>831653.000000</td>\n",
       "      <td>831653.000000</td>\n",
       "      <td>831653.000000</td>\n",
       "      <td>...</td>\n",
       "      <td>831653.000000</td>\n",
       "      <td>831653.000000</td>\n",
       "      <td>831653.000000</td>\n",
       "      <td>831653.000000</td>\n",
       "      <td>831653.000000</td>\n",
       "      <td>831653.000000</td>\n",
       "      <td>831653.000000</td>\n",
       "      <td>831653.000000</td>\n",
       "      <td>831653.000000</td>\n",
       "      <td>831653.000000</td>\n",
       "    </tr>\n",
       "    <tr>\n",
       "      <th>mean</th>\n",
       "      <td>415826.000000</td>\n",
       "      <td>2.158304e+06</td>\n",
       "      <td>2.686185</td>\n",
       "      <td>1.538937e+09</td>\n",
       "      <td>0.072369</td>\n",
       "      <td>2.254994e+06</td>\n",
       "      <td>2.062392</td>\n",
       "      <td>5.161329</td>\n",
       "      <td>1.987254</td>\n",
       "      <td>5.766886</td>\n",
       "      <td>...</td>\n",
       "      <td>-42.733928</td>\n",
       "      <td>-28.101598</td>\n",
       "      <td>-2.797341</td>\n",
       "      <td>-4.402215</td>\n",
       "      <td>-11.587021</td>\n",
       "      <td>-1.660674</td>\n",
       "      <td>-0.039381</td>\n",
       "      <td>0.884418</td>\n",
       "      <td>0.013525</td>\n",
       "      <td>0.268059</td>\n",
       "    </tr>\n",
       "    <tr>\n",
       "      <th>std</th>\n",
       "      <td>240077.686048</td>\n",
       "      <td>1.257907e+06</td>\n",
       "      <td>1.952034</td>\n",
       "      <td>5.019053e+06</td>\n",
       "      <td>0.259098</td>\n",
       "      <td>1.302122e+06</td>\n",
       "      <td>302.308236</td>\n",
       "      <td>495.918888</td>\n",
       "      <td>309.148563</td>\n",
       "      <td>576.275542</td>\n",
       "      <td>...</td>\n",
       "      <td>3110.526314</td>\n",
       "      <td>2146.368014</td>\n",
       "      <td>837.827712</td>\n",
       "      <td>245.841644</td>\n",
       "      <td>1231.708277</td>\n",
       "      <td>189.573153</td>\n",
       "      <td>7.176362</td>\n",
       "      <td>149.893098</td>\n",
       "      <td>18.732853</td>\n",
       "      <td>2.067714</td>\n",
       "    </tr>\n",
       "    <tr>\n",
       "      <th>min</th>\n",
       "      <td>0.000000</td>\n",
       "      <td>2.000000e+00</td>\n",
       "      <td>1.000000</td>\n",
       "      <td>1.531084e+09</td>\n",
       "      <td>0.000000</td>\n",
       "      <td>1.300000e+01</td>\n",
       "      <td>-1151.889971</td>\n",
       "      <td>-1447.969112</td>\n",
       "      <td>-2651.840786</td>\n",
       "      <td>-1488.716798</td>\n",
       "      <td>...</td>\n",
       "      <td>-977.373846</td>\n",
       "      <td>-613.770792</td>\n",
       "      <td>-25.996269</td>\n",
       "      <td>-37.630448</td>\n",
       "      <td>-306.747724</td>\n",
       "      <td>-25.832889</td>\n",
       "      <td>-0.694428</td>\n",
       "      <td>-12.175933</td>\n",
       "      <td>-0.456140</td>\n",
       "      <td>0.000000</td>\n",
       "    </tr>\n",
       "    <tr>\n",
       "      <th>25%</th>\n",
       "      <td>207913.000000</td>\n",
       "      <td>1.067319e+06</td>\n",
       "      <td>1.000000</td>\n",
       "      <td>1.534108e+09</td>\n",
       "      <td>0.000000</td>\n",
       "      <td>1.127703e+06</td>\n",
       "      <td>-96.799971</td>\n",
       "      <td>-204.789112</td>\n",
       "      <td>-110.740786</td>\n",
       "      <td>-238.766798</td>\n",
       "      <td>...</td>\n",
       "      <td>-977.373846</td>\n",
       "      <td>-613.770792</td>\n",
       "      <td>-25.996269</td>\n",
       "      <td>-37.630448</td>\n",
       "      <td>-305.747724</td>\n",
       "      <td>-25.832889</td>\n",
       "      <td>-0.694428</td>\n",
       "      <td>-12.175933</td>\n",
       "      <td>-0.456140</td>\n",
       "      <td>0.000000</td>\n",
       "    </tr>\n",
       "    <tr>\n",
       "      <th>50%</th>\n",
       "      <td>415826.000000</td>\n",
       "      <td>2.144574e+06</td>\n",
       "      <td>2.000000</td>\n",
       "      <td>1.538341e+09</td>\n",
       "      <td>0.000000</td>\n",
       "      <td>2.251585e+06</td>\n",
       "      <td>-84.089971</td>\n",
       "      <td>-56.489112</td>\n",
       "      <td>-83.620786</td>\n",
       "      <td>-75.166798</td>\n",
       "      <td>...</td>\n",
       "      <td>-960.373846</td>\n",
       "      <td>-613.770792</td>\n",
       "      <td>-25.996269</td>\n",
       "      <td>-37.630448</td>\n",
       "      <td>-240.747724</td>\n",
       "      <td>-23.832889</td>\n",
       "      <td>-0.694428</td>\n",
       "      <td>-12.175933</td>\n",
       "      <td>-0.456140</td>\n",
       "      <td>0.000000</td>\n",
       "    </tr>\n",
       "    <tr>\n",
       "      <th>75%</th>\n",
       "      <td>623739.000000</td>\n",
       "      <td>3.244254e+06</td>\n",
       "      <td>4.000000</td>\n",
       "      <td>1.544389e+09</td>\n",
       "      <td>0.000000</td>\n",
       "      <td>3.380386e+06</td>\n",
       "      <td>12.960029</td>\n",
       "      <td>123.190888</td>\n",
       "      <td>28.699214</td>\n",
       "      <td>131.583202</td>\n",
       "      <td>...</td>\n",
       "      <td>-517.373846</td>\n",
       "      <td>-423.770792</td>\n",
       "      <td>-24.996269</td>\n",
       "      <td>-33.630448</td>\n",
       "      <td>-83.747724</td>\n",
       "      <td>-10.832889</td>\n",
       "      <td>-0.694428</td>\n",
       "      <td>-8.175933</td>\n",
       "      <td>-0.456140</td>\n",
       "      <td>1.000000</td>\n",
       "    </tr>\n",
       "    <tr>\n",
       "      <th>max</th>\n",
       "      <td>831652.000000</td>\n",
       "      <td>4.362694e+06</td>\n",
       "      <td>9.000000</td>\n",
       "      <td>1.546204e+09</td>\n",
       "      <td>1.000000</td>\n",
       "      <td>4.512484e+06</td>\n",
       "      <td>211730.720029</td>\n",
       "      <td>212606.130888</td>\n",
       "      <td>211716.779214</td>\n",
       "      <td>213357.743202</td>\n",
       "      <td>...</td>\n",
       "      <td>161254.626154</td>\n",
       "      <td>145602.229208</td>\n",
       "      <td>214933.003731</td>\n",
       "      <td>37358.369552</td>\n",
       "      <td>141994.252276</td>\n",
       "      <td>34368.167111</td>\n",
       "      <td>2285.305572</td>\n",
       "      <td>33050.824067</td>\n",
       "      <td>9489.543860</td>\n",
       "      <td>1743.000000</td>\n",
       "    </tr>\n",
       "  </tbody>\n",
       "</table>\n",
       "<p>8 rows × 259 columns</p>\n",
       "</div>"
      ],
      "text/plain": [
       "        Unnamed: 0_x            id         vas_id      buy_time  \\\n",
       "count  831653.000000  8.316530e+05  831653.000000  8.316530e+05   \n",
       "mean   415826.000000  2.158304e+06       2.686185  1.538937e+09   \n",
       "std    240077.686048  1.257907e+06       1.952034  5.019053e+06   \n",
       "min         0.000000  2.000000e+00       1.000000  1.531084e+09   \n",
       "25%    207913.000000  1.067319e+06       1.000000  1.534108e+09   \n",
       "50%    415826.000000  2.144574e+06       2.000000  1.538341e+09   \n",
       "75%    623739.000000  3.244254e+06       4.000000  1.544389e+09   \n",
       "max    831652.000000  4.362694e+06       9.000000  1.546204e+09   \n",
       "\n",
       "              target  Unnamed: 0_y              0              1  \\\n",
       "count  831653.000000  8.316530e+05  831653.000000  831653.000000   \n",
       "mean        0.072369  2.254994e+06       2.062392       5.161329   \n",
       "std         0.259098  1.302122e+06     302.308236     495.918888   \n",
       "min         0.000000  1.300000e+01   -1151.889971   -1447.969112   \n",
       "25%         0.000000  1.127703e+06     -96.799971    -204.789112   \n",
       "50%         0.000000  2.251585e+06     -84.089971     -56.489112   \n",
       "75%         0.000000  3.380386e+06      12.960029     123.190888   \n",
       "max         1.000000  4.512484e+06  211730.720029  212606.130888   \n",
       "\n",
       "                   2              3  ...            243            244  \\\n",
       "count  831653.000000  831653.000000  ...  831653.000000  831653.000000   \n",
       "mean        1.987254       5.766886  ...     -42.733928     -28.101598   \n",
       "std       309.148563     576.275542  ...    3110.526314    2146.368014   \n",
       "min     -2651.840786   -1488.716798  ...    -977.373846    -613.770792   \n",
       "25%      -110.740786    -238.766798  ...    -977.373846    -613.770792   \n",
       "50%       -83.620786     -75.166798  ...    -960.373846    -613.770792   \n",
       "75%        28.699214     131.583202  ...    -517.373846    -423.770792   \n",
       "max    211716.779214  213357.743202  ...  161254.626154  145602.229208   \n",
       "\n",
       "                 245            246            247            248  \\\n",
       "count  831653.000000  831653.000000  831653.000000  831653.000000   \n",
       "mean       -2.797341      -4.402215     -11.587021      -1.660674   \n",
       "std       837.827712     245.841644    1231.708277     189.573153   \n",
       "min       -25.996269     -37.630448    -306.747724     -25.832889   \n",
       "25%       -25.996269     -37.630448    -305.747724     -25.832889   \n",
       "50%       -25.996269     -37.630448    -240.747724     -23.832889   \n",
       "75%       -24.996269     -33.630448     -83.747724     -10.832889   \n",
       "max    214933.003731   37358.369552  141994.252276   34368.167111   \n",
       "\n",
       "                 249            250            251            252  \n",
       "count  831653.000000  831653.000000  831653.000000  831653.000000  \n",
       "mean       -0.039381       0.884418       0.013525       0.268059  \n",
       "std         7.176362     149.893098      18.732853       2.067714  \n",
       "min        -0.694428     -12.175933      -0.456140       0.000000  \n",
       "25%        -0.694428     -12.175933      -0.456140       0.000000  \n",
       "50%        -0.694428     -12.175933      -0.456140       0.000000  \n",
       "75%        -0.694428      -8.175933      -0.456140       1.000000  \n",
       "max      2285.305572   33050.824067    9489.543860    1743.000000  \n",
       "\n",
       "[8 rows x 259 columns]"
      ]
     },
     "execution_count": 38,
     "metadata": {},
     "output_type": "execute_result"
    }
   ],
   "source": [
    "full_train.describe()"
   ]
  },
  {
   "cell_type": "code",
   "execution_count": 39,
   "metadata": {},
   "outputs": [],
   "source": [
    "# Столбцы 'Unnamed: 0_x' и 'Unnamed: 0_y' удалим, т.к. они не являются признаками\n",
    "full_train.drop(columns=['Unnamed: 0_x', 'Unnamed: 0_y'], inplace=True)\n",
    "full_test.drop(columns=['Unnamed: 0_x', 'Unnamed: 0_y'], inplace=True)"
   ]
  },
  {
   "cell_type": "code",
   "execution_count": 45,
   "metadata": {},
   "outputs": [],
   "source": [
    "name_columns_in_train = list(full_train.columns)\n",
    "\n",
    "full_len = full_train.shape[0]\n",
    "for column_name in name_columns_in_train:\n",
    "    if full_train[column_name].count() != full_len:\n",
    "        count_nan = full_len - full_train[column_name].count()\n",
    "        print('В столбце {column_name} пропущено {count_nan} значений')"
   ]
  },
  {
   "cell_type": "markdown",
   "metadata": {},
   "source": [
    "В тренировочном датасете нет пропущенных данных"
   ]
  },
  {
   "cell_type": "code",
   "execution_count": 46,
   "metadata": {},
   "outputs": [
    {
     "data": {
      "text/plain": [
       "0.0    771467\n",
       "1.0     60186\n",
       "Name: target, dtype: int64"
      ]
     },
     "execution_count": 46,
     "metadata": {},
     "output_type": "execute_result"
    }
   ],
   "source": [
    "full_train.target.value_counts()"
   ]
  },
  {
   "cell_type": "markdown",
   "metadata": {},
   "source": [
    "В итоге видим сильный дисбаланс классов"
   ]
  },
  {
   "cell_type": "code",
   "execution_count": 47,
   "metadata": {},
   "outputs": [],
   "source": [
    "sort_train = full_train.sort_values(by='buy_time')"
   ]
  },
  {
   "cell_type": "code",
   "execution_count": 48,
   "metadata": {},
   "outputs": [
    {
     "name": "stdout",
     "output_type": "stream",
     "text": [
      "2018-07-09 00:00:00\n",
      "2018-12-30 23:00:00\n"
     ]
    }
   ],
   "source": [
    "print(dtm.datetime.fromtimestamp(min(sort_train.buy_time)))\n",
    "print(dtm.datetime.fromtimestamp(max(sort_train.buy_time)))"
   ]
  },
  {
   "cell_type": "code",
   "execution_count": 49,
   "metadata": {},
   "outputs": [
    {
     "data": {
      "text/plain": [
       "1546203600"
      ]
     },
     "execution_count": 49,
     "metadata": {},
     "output_type": "execute_result"
    }
   ],
   "source": [
    "max(sort_train.buy_time)"
   ]
  },
  {
   "cell_type": "code",
   "execution_count": 50,
   "metadata": {},
   "outputs": [
    {
     "data": {
      "text/plain": [
       "1543615200"
      ]
     },
     "execution_count": 50,
     "metadata": {},
     "output_type": "execute_result"
    }
   ],
   "source": [
    "int(dtm.datetime.strptime('01.12.2018 00:00:00', '%d.%m.%Y %H:%M:%S').timestamp())"
   ]
  },
  {
   "cell_type": "code",
   "execution_count": 51,
   "metadata": {},
   "outputs": [],
   "source": [
    "timestamp_separation = int(dtm.datetime.strptime('01.12.2018 00:00:00', '%d.%m.%Y %H:%M:%S').timestamp())\n",
    "df_train = sort_train[sort_train.buy_time < timestamp_separation]\n",
    "df_test = sort_train[sort_train.buy_time >= timestamp_separation]"
   ]
  },
  {
   "cell_type": "code",
   "execution_count": 52,
   "metadata": {},
   "outputs": [
    {
     "data": {
      "text/plain": [
       "0.0    546089\n",
       "1.0     37984\n",
       "Name: target, dtype: int64"
      ]
     },
     "execution_count": 52,
     "metadata": {},
     "output_type": "execute_result"
    }
   ],
   "source": [
    "df_train.target.value_counts()"
   ]
  },
  {
   "cell_type": "code",
   "execution_count": 53,
   "metadata": {},
   "outputs": [
    {
     "data": {
      "text/plain": [
       "0.0    225378\n",
       "1.0     22202\n",
       "Name: target, dtype: int64"
      ]
     },
     "execution_count": 53,
     "metadata": {},
     "output_type": "execute_result"
    }
   ],
   "source": [
    "df_test.target.value_counts()"
   ]
  },
  {
   "cell_type": "code",
   "execution_count": 54,
   "metadata": {},
   "outputs": [],
   "source": [
    "X_train = df_train.drop(columns=['target'])\n",
    "y_train = df_train.target\n",
    "X_test = df_test.drop(columns=['target'])\n",
    "y_test_real = df_test.target"
   ]
  },
  {
   "cell_type": "code",
   "execution_count": 55,
   "metadata": {},
   "outputs": [],
   "source": [
    "del df_train\n",
    "del df_test"
   ]
  },
  {
   "cell_type": "code",
   "execution_count": 57,
   "metadata": {},
   "outputs": [],
   "source": [
    "list_name_features = list(X_train.columns)[3:]"
   ]
  },
  {
   "cell_type": "code",
   "execution_count": 58,
   "metadata": {},
   "outputs": [],
   "source": [
    "# Функция создания, обучения модели, формирования предсказаний и подсчета метрик\n",
    "def model_preds(model, X_train, y_train, X_test, y_test_real):\n",
    "    model_class = RandomForestClassifier(random_state=21, class_weight={0 : 1, 1 : 10})\n",
    "    model_class.fit(X_train, y_train)\n",
    "    y_preds = model_class.predict(X_test)\n",
    "    metrics = f1_score(y_test_real, y_preds, average='macro')\n",
    "    return model_class, y_preds, metrics"
   ]
  },
  {
   "cell_type": "code",
   "execution_count": 60,
   "metadata": {},
   "outputs": [
    {
     "data": {
      "text/html": [
       "<div>\n",
       "<style scoped>\n",
       "    .dataframe tbody tr th:only-of-type {\n",
       "        vertical-align: middle;\n",
       "    }\n",
       "\n",
       "    .dataframe tbody tr th {\n",
       "        vertical-align: top;\n",
       "    }\n",
       "\n",
       "    .dataframe thead th {\n",
       "        text-align: right;\n",
       "    }\n",
       "</style>\n",
       "<table border=\"1\" class=\"dataframe\">\n",
       "  <thead>\n",
       "    <tr style=\"text-align: right;\">\n",
       "      <th></th>\n",
       "      <th>model</th>\n",
       "      <th>standart</th>\n",
       "      <th>with_std</th>\n",
       "      <th>with_PCA_and_std</th>\n",
       "      <th>for_slice</th>\n",
       "      <th>for_slice_with_std</th>\n",
       "      <th>for_slice_with_std_and_PCA</th>\n",
       "    </tr>\n",
       "  </thead>\n",
       "  <tbody>\n",
       "  </tbody>\n",
       "</table>\n",
       "</div>"
      ],
      "text/plain": [
       "Empty DataFrame\n",
       "Columns: [model, standart, with_std, with_PCA_and_std, for_slice, for_slice_with_std, for_slice_with_std_and_PCA]\n",
       "Index: []"
      ]
     },
     "execution_count": 60,
     "metadata": {},
     "output_type": "execute_result"
    }
   ],
   "source": [
    "# Датафрейм с результатами\n",
    "columns_name = ['model', 'standart', 'with_std', 'with_PCA_and_std', \n",
    "                'for_slice', 'for_slice_with_std', 'for_slice_with_std_and_PCA']\n",
    "df_metrics_for_models = pd.DataFrame(columns=columns_name)\n",
    "df_metrics_for_models"
   ]
  },
  {
   "cell_type": "markdown",
   "metadata": {},
   "source": [
    "#### Рассмотрим Random Forest без дополнительных параметров"
   ]
  },
  {
   "cell_type": "code",
   "execution_count": null,
   "metadata": {},
   "outputs": [],
   "source": [
    "%%time\n",
    "model_rf = RandomForestClassifier(random_state=21)\n",
    "trained_model_rf, y_preds_rf, metrics_rf = model_preds(model_rf, X_train, y_train, X_test, y_test_real)\n",
    "metrics_rf"
   ]
  },
  {
   "cell_type": "code",
   "execution_count": null,
   "metadata": {},
   "outputs": [],
   "source": [
    "# Проверка модели Random Forest с весами для классов\n",
    "%%time\n",
    "model_rf_with_std = RandomForestClassifier(random_state=21, class_weight={0 : 1, 1 : 10})\n",
    "trained_model_rf_with_std, y_preds_rf_with_std, metrics_rf_with_std = model_preds(model_rf_with_std, X_train, y_train, \\\n",
    "                                                                                  X_test, y_test_real)\n",
    "metrics_rf_with_std"
   ]
  },
  {
   "cell_type": "code",
   "execution_count": null,
   "metadata": {},
   "outputs": [],
   "source": [
    "# Стандартизируем данные\n",
    "standard_scaler = StandardScaler()\n",
    "X_std_train = X_train.copy()\n",
    "X_std_train[list_name_features] = standard_scaler.fit_transform(X_std_train[list_name_features])"
   ]
  },
  {
   "cell_type": "code",
   "execution_count": null,
   "metadata": {},
   "outputs": [],
   "source": [
    "X_std_test = X_test.copy()\n",
    "X_std_test[list_name_features] = standard_scaler.fit_transform(X_std_test[list_name_features])"
   ]
  },
  {
   "cell_type": "code",
   "execution_count": null,
   "metadata": {},
   "outputs": [],
   "source": [
    "%%time\n",
    "model_rf_with_weight = RandomForestClassifier(random_state=21, class_weight={0.0 : 1, 1.0 : 10})\n",
    "model_rf_with_weight.fit(X_std_train, y_train)\n",
    "y_preds_rf_with_weight = model_rf_with_weight.predict(X_std_test)\n",
    "f1_score(y_test_real, y_preds_rf_with_weight, average='macro')"
   ]
  },
  {
   "cell_type": "markdown",
   "metadata": {},
   "source": [
    "#### При помощи Random Forest выявляем наиболее важные признаки"
   ]
  },
  {
   "cell_type": "code",
   "execution_count": null,
   "metadata": {},
   "outputs": [],
   "source": [
    "X_std_train.columns"
   ]
  },
  {
   "cell_type": "code",
   "execution_count": null,
   "metadata": {},
   "outputs": [],
   "source": [
    "df_feature_importance = pd.DataFrame({'feature': X_std_train.columns, \n",
    "                                      'importance': model_rf_with_weight.feature_importances_})"
   ]
  },
  {
   "cell_type": "code",
   "execution_count": null,
   "metadata": {},
   "outputs": [],
   "source": [
    "df_feature_importance.sort_values(by='importance', ascending=False).head(100)"
   ]
  },
  {
   "cell_type": "code",
   "execution_count": null,
   "metadata": {},
   "outputs": [],
   "source": [
    "X_std_train[list(df_feature_importance[df_feature_importance.importance > 0.002].feature.values)]"
   ]
  },
  {
   "cell_type": "markdown",
   "metadata": {},
   "source": [
    "Строим random forest для части признаков"
   ]
  },
  {
   "cell_type": "code",
   "execution_count": null,
   "metadata": {},
   "outputs": [],
   "source": [
    "%%time\n",
    "model_rf_for_slice = RandomForestClassifier(random_state=21)\n",
    "trained_model_rf_for_slice, y_preds_rf_for_slice, metrics_rf_for_slice = model_preds(model_rf_for_slice, \n",
    "                     X_std_train[list(df_feature_importance[df_feature_importance.importance > 0.002].feature.values)], \n",
    "                     y_train, X_test[list(df_feature_importance[df_feature_importance.importance > 0.002].feature.values)],\n",
    "                     y_test_real)\n",
    "metrics_rf_for_slice"
   ]
  },
  {
   "cell_type": "markdown",
   "metadata": {},
   "source": [
    "Random forest для части признаков с переопределением весов целевой переменной"
   ]
  },
  {
   "cell_type": "code",
   "execution_count": null,
   "metadata": {},
   "outputs": [],
   "source": [
    "%%time\n",
    "model_rf_for_slice_with_std = RandomForestClassifier(random_state=21, class_weight={0 : 1, 1 : 10})\n",
    "trained_model_rf_for_slice_with_std, y_preds_rf_for_slice_with_std, metrics_rf_for_slice_with_std = model_preds(model_rf_for_slice_with_std, \n",
    "                     X_std_train[list(df_feature_importance[df_feature_importance.importance > 0.002].feature.values)], \n",
    "                     y_train, X_test[list(df_feature_importance[df_feature_importance.importance > 0.002].feature.values)], \n",
    "                     y_test_real)\n",
    "metrics_rf_for_slice_with_std"
   ]
  },
  {
   "cell_type": "code",
   "execution_count": null,
   "metadata": {},
   "outputs": [],
   "source": [
    "# Функция обучения pipeline, формирования предсказаний и подсчета метрик\n",
    "def pipeline_preds(pipeline, X_train, y_train, X_test, y_test_real):\n",
    "    pipeline.fit(X_train, y_train)\n",
    "    y_preds = pipeline.predict(X_test)\n",
    "    metrics = f1_score(y_test_real, y_preds, average='macro')\n",
    "    return pipeline, y_preds, metrics"
   ]
  },
  {
   "cell_type": "code",
   "execution_count": null,
   "metadata": {},
   "outputs": [],
   "source": [
    "X_train_slice = X_train[list(df_feature_importance[df_feature_importance.importance > 0.002].feature.values)]\n",
    "X_test_slice = X_test[list(df_feature_importance[df_feature_importance.importance > 0.002].feature.values)]"
   ]
  },
  {
   "cell_type": "code",
   "execution_count": null,
   "metadata": {},
   "outputs": [],
   "source": [
    "# Добавим результаты вычисления метрик в общий датафрейм\n",
    "metrics_rf_with_std_and_PCA = np.nan\n",
    "metrics_rf_slice_with_std_and_PCA = np.nan\n",
    "result_for_rf = ['Random Forest', metrics_rf, metrics_rf_with_std, metrics_rf_with_std_and_PCA, \n",
    "                metrics_rf_for_slice, metrics_rf_for_slice_with_std, metrics_rf_slice_with_std_and_PCA]\n",
    "df_result_for_rf = pd.DataFrame([result_for_rf], columns=columns_name)\n",
    "df_metrics_for_models = pd.concat([df_metrics_for_models, df_result_for_rf], axis=0, ignore_index=True)\n",
    "df_metrics_for_models"
   ]
  },
  {
   "cell_type": "markdown",
   "metadata": {},
   "source": [
    "#### Рассмотрим Gradient Boosting"
   ]
  },
  {
   "cell_type": "code",
   "execution_count": null,
   "metadata": {},
   "outputs": [],
   "source": [
    "%%time\n",
    "pipeline_gb = Pipeline([('gradient_boosting', GradientBoostingClassifier(random_state=21))])\n",
    "trained_model_gb, y_preds_gb, metrics_gb = pipeline_preds(pipeline_gb, X_train, y_train, X_test, y_test_real)\n",
    "metrics_gb"
   ]
  },
  {
   "cell_type": "markdown",
   "metadata": {},
   "source": [
    "Добавим стандартизацию данных в Gradient Boosting"
   ]
  },
  {
   "cell_type": "code",
   "execution_count": null,
   "metadata": {},
   "outputs": [],
   "source": [
    "%%time\n",
    "pipeline_gb_with_std = Pipeline([('standard_scaler', StandardScaler()), \n",
    "                                ('gradient_boosting', GradientBoostingClassifier(random_state=21))])\n",
    "trained_model_gb_with_std, y_preds_gb_with_std, metrics_gb_with_std = pipeline_preds(pipeline_gb_with_std, \n",
    "                                    X_train, y_train, X_test, y_test_real)\n",
    "metrics_gb_with_std"
   ]
  },
  {
   "cell_type": "code",
   "execution_count": null,
   "metadata": {},
   "outputs": [],
   "source": [
    "# Рассмотрим Gradient Boosting для отобранной части признаков\n",
    "%%time\n",
    "pipeline_gb_slice = Pipeline([('gradient_boosting', GradientBoostingClassifier(random_state=21))])\n",
    "trained_model_gb_slice, y_preds_gb_slice, metrics_gb_slice = pipeline_preds(pipeline_gb_slice, X_train_slice, \n",
    "                                                                            y_train, X_test_slice, y_test_real)\n",
    "metrics_gb_slice"
   ]
  },
  {
   "cell_type": "code",
   "execution_count": null,
   "metadata": {},
   "outputs": [],
   "source": [
    "# Рассмотрим Gradient Boosting со стандартизацией данных для отобранной части признаков\n",
    "%%time\n",
    "pipeline_gb_slice_with_std = Pipeline([('standard_scaler', StandardScaler()), \n",
    "                                ('gradient_boosting', GradientBoostingClassifier(random_state=21))])\n",
    "trained_model_gb_slice_with_std, y_preds_gb_slice_with_std, metrics_gb_slice_with_std = pipeline_preds(pipeline_gb_slice_with_std, \n",
    "                                    X_train_slice, y_train, X_test_slice, y_test_real)\n",
    "metrics_gb_slice_with_std"
   ]
  },
  {
   "cell_type": "code",
   "execution_count": null,
   "metadata": {},
   "outputs": [],
   "source": [
    "metrics_gb_with_std_pca = np.nan\n",
    "metrics_gb_slice_with_std_pca = np.nan\n",
    "result_for_gb = ['Gradient Boosting', metrics_gb, metrics_gb_with_std, metrics_gb_with_std_pca, \n",
    "                metrics_gb_slice, metrics_gb_slice_with_std, metrics_gb_slice_with_std_pca]\n",
    "df_result_for_gb = pd.DataFrame([result_for_gb], columns=columns_name)\n",
    "df_metrics_for_models = pd.concat([df_metrics_for_models, df_result_for_gb], axis=0, ignore_index=True)\n",
    "df_metrics_for_models"
   ]
  },
  {
   "cell_type": "markdown",
   "metadata": {},
   "source": [
    "Наилучший результат дала модель GradientBoostingClassifier без стандартизации. Подберем гиперпараметры для этой модели"
   ]
  },
  {
   "cell_type": "code",
   "execution_count": null,
   "metadata": {},
   "outputs": [],
   "source": [
    "%%time\n",
    "parameters = {'n_estimators': [50, 100, 200], 'max_depth': [1, 3, 5]}\n",
    "model_gb = GradientBoostingClassifier(random_state=21)\n",
    "f1 = make_scorer(f1_score, average='macro')\n",
    "grid_search_for_gb = GridSearchCV(model_gb, parameters, scoring=f1)\n",
    "grid_search_for_gb.fit(X_train, y_train)"
   ]
  },
  {
   "cell_type": "code",
   "execution_count": null,
   "metadata": {},
   "outputs": [],
   "source": [
    "grid_search_for_gb.best_params_"
   ]
  },
  {
   "cell_type": "code",
   "execution_count": null,
   "metadata": {},
   "outputs": [],
   "source": [
    "grid_search_for_gb.cv_results_"
   ]
  },
  {
   "cell_type": "markdown",
   "metadata": {},
   "source": [
    "#### Финальное обучение модели, сохранение модели и выполнение предсказания"
   ]
  },
  {
   "cell_type": "code",
   "execution_count": null,
   "metadata": {},
   "outputs": [],
   "source": [
    "X_train_final = full_train.drop(columns=['target'])\n",
    "y_train_final = full_train.target"
   ]
  },
  {
   "cell_type": "code",
   "execution_count": null,
   "metadata": {},
   "outputs": [],
   "source": [
    "del full_train"
   ]
  },
  {
   "cell_type": "code",
   "execution_count": null,
   "metadata": {},
   "outputs": [],
   "source": [
    "best_model = GradientBoostingClassifier(random_state=21, max_depth=1, n_estimators=100)"
   ]
  },
  {
   "cell_type": "code",
   "execution_count": null,
   "metadata": {},
   "outputs": [],
   "source": [
    "best_model.fit(X_train_final, y_train_final)"
   ]
  },
  {
   "cell_type": "code",
   "execution_count": null,
   "metadata": {},
   "outputs": [],
   "source": [
    "with open('best_model.pkl', 'wb') as f:\n",
    "    pickle.dump(best_model, f)"
   ]
  },
  {
   "cell_type": "code",
   "execution_count": null,
   "metadata": {},
   "outputs": [],
   "source": [
    "y_predict_final = best_model.predict(full_test)"
   ]
  },
  {
   "cell_type": "code",
   "execution_count": null,
   "metadata": {},
   "outputs": [],
   "source": [
    "full_test_result['target'] = y_predict_final"
   ]
  },
  {
   "cell_type": "code",
   "execution_count": null,
   "metadata": {},
   "outputs": [],
   "source": [
    "result = full_test_result[['id', 'vas_id', 'buy_time', 'target']].reset_index(drop=True)"
   ]
  },
  {
   "cell_type": "code",
   "execution_count": null,
   "metadata": {},
   "outputs": [],
   "source": [
    "result.to_csv('answers_test.csv')"
   ]
  },
  {
   "cell_type": "code",
   "execution_count": null,
   "metadata": {},
   "outputs": [],
   "source": [
    "with open('best_model.pkl', 'rb') as file: \n",
    "    pickle_model = pickle.load(file) "
   ]
  },
  {
   "cell_type": "code",
   "execution_count": null,
   "metadata": {},
   "outputs": [],
   "source": [
    "pickle_model.predict(full_test)"
   ]
  },
  {
   "cell_type": "code",
   "execution_count": null,
   "metadata": {},
   "outputs": [],
   "source": []
  }
 ],
 "metadata": {
  "kernelspec": {
   "display_name": "Python 3",
   "language": "python",
   "name": "python3"
  }
 },
 "nbformat": 4,
 "nbformat_minor": 4
}
